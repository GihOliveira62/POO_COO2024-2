{
  "nbformat": 4,
  "nbformat_minor": 0,
  "metadata": {
    "colab": {
      "provenance": [],
      "authorship_tag": "ABX9TyPk7o+jI5czxEKY/mUFoPYo",
      "include_colab_link": true
    },
    "kernelspec": {
      "name": "python3",
      "display_name": "Python 3"
    },
    "language_info": {
      "name": "python"
    }
  },
  "cells": [
    {
      "cell_type": "markdown",
      "metadata": {
        "id": "view-in-github",
        "colab_type": "text"
      },
      "source": [
        "<a href=\"https://colab.research.google.com/github/GihOliveira62/POO_COO2024-2/blob/main/Untitled0.ipynb\" target=\"_parent\"><img src=\"https://colab.research.google.com/assets/colab-badge.svg\" alt=\"Open In Colab\"/></a>"
      ]
    },
    {
      "cell_type": "code",
      "execution_count": 1,
      "metadata": {
        "colab": {
          "base_uri": "https://localhost:8080/"
        },
        "id": "zJVRZbVMi_-_",
        "outputId": "c0ea52bb-eedc-47a2-c6ae-ba809ea6fe47"
      },
      "outputs": [
        {
          "output_type": "stream",
          "name": "stdout",
          "text": [
            "Digite valor em Graus Farenheit: 50\n",
            "O valor de 50.0ºF corresponde ao valor de 10.0ºC\n"
          ]
        }
      ],
      "source": [
        "F = float(input(\"Digite valor em Graus Farenheit: \"))\n",
        "C = (5/9)*(F-32)\n",
        "print(f\"O valor de {F}ºF corresponde ao valor de {C}ºC\")"
      ]
    },
    {
      "cell_type": "code",
      "source": [
        "P = float(input(\"Digite valor em Polegadas: \"))\n",
        "MM = P*25.4\n",
        "print(f\"O valor de {P}pol corresponde ao valor de {MM}mm\")"
      ],
      "metadata": {
        "colab": {
          "base_uri": "https://localhost:8080/"
        },
        "id": "B3zRIYJpkQA0",
        "outputId": "cfdebb67-91f1-41eb-eb12-117ac0f74162"
      },
      "execution_count": 3,
      "outputs": [
        {
          "output_type": "stream",
          "name": "stdout",
          "text": [
            "Digite valor em Polegadas: 12\n",
            "O valor de 12.0pol corresponde ao valor de 304.79999999999995mm\n"
          ]
        }
      ]
    },
    {
      "cell_type": "markdown",
      "source": [
        "#Programa de verificador de idade para votação"
      ],
      "metadata": {
        "id": "dEO4OmClpEb2"
      }
    },
    {
      "cell_type": "code",
      "source": [
        "#Entrada: idade\n",
        "#SAÍDA: \"Pode Votar ou Não\"\n",
        "\n",
        "idade = int(input(\"Digite sua idade: \"))\n",
        "if idade >= 18:\n",
        "  print(\"Pode Votar\")\n",
        "else:\n",
        "  print(\"Não Pode Votar\")"
      ],
      "metadata": {
        "colab": {
          "base_uri": "https://localhost:8080/"
        },
        "id": "0hsuG7xApKcZ",
        "outputId": "fb14bf14-c262-4bc1-ce84-b883e373d5c6"
      },
      "execution_count": 5,
      "outputs": [
        {
          "output_type": "stream",
          "name": "stdout",
          "text": [
            "Digite sua idade: 18\n",
            "Pode Votar\n"
          ]
        }
      ]
    },
    {
      "cell_type": "code",
      "source": [
        "import math\n",
        "\n",
        "raio = float(input(\"Digite o raio da esfera em unidades de comprimentos: \"))\n",
        "volume = (4/3) * math.pi * (raio ** 3)\n",
        "print(f\"O volume da esfera com raio {raio} é {volume: .2f} unidades cúbicas.\")"
      ],
      "metadata": {
        "id": "XxV6FUSVsi7_"
      },
      "execution_count": null,
      "outputs": []
    }
  ]
}