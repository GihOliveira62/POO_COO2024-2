{
  "nbformat": 4,
  "nbformat_minor": 0,
  "metadata": {
    "colab": {
      "provenance": [],
      "authorship_tag": "ABX9TyMWLc35EYMcY4dT4kZnwQLC",
      "include_colab_link": true
    },
    "kernelspec": {
      "name": "python3",
      "display_name": "Python 3"
    },
    "language_info": {
      "name": "python"
    }
  },
  "cells": [
    {
      "cell_type": "markdown",
      "metadata": {
        "id": "view-in-github",
        "colab_type": "text"
      },
      "source": [
        "<a href=\"https://colab.research.google.com/github/GihOliveira62/POO_COO2024-2/blob/main/Untitled0.ipynb\" target=\"_parent\"><img src=\"https://colab.research.google.com/assets/colab-badge.svg\" alt=\"Open In Colab\"/></a>"
      ]
    },
    {
      "cell_type": "code",
      "execution_count": 1,
      "metadata": {
        "colab": {
          "base_uri": "https://localhost:8080/"
        },
        "id": "zJVRZbVMi_-_",
        "outputId": "c0ea52bb-eedc-47a2-c6ae-ba809ea6fe47"
      },
      "outputs": [
        {
          "output_type": "stream",
          "name": "stdout",
          "text": [
            "Digite valor em Graus Farenheit: 50\n",
            "O valor de 50.0ºF corresponde ao valor de 10.0ºC\n"
          ]
        }
      ],
      "source": [
        "F = float(input(\"Digite valor em Graus Farenheit: \"))\n",
        "C = (5/9)*(F-32)\n",
        "print(f\"O valor de {F}ºF corresponde ao valor de {C}ºC\")"
      ]
    }
  ]
}